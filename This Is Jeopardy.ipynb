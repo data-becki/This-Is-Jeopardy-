{
 "cells": [
  {
   "cell_type": "markdown",
   "id": "eee3385d",
   "metadata": {},
   "source": [
    "# This Is Jeopardy!"
   ]
  },
  {
   "cell_type": "markdown",
   "id": "b2beb760",
   "metadata": {},
   "source": [
    "## Project Goals\n",
    "\n",
    "You will work to write several functions that investigate a dataset of Jeopardy! questions and answers. Filter the dataset for topics that you’re interested in, compute the average difficulty of those questions, and train to become the next Jeopardy champion!"
   ]
  },
  {
   "cell_type": "code",
   "execution_count": 2,
   "id": "23f52eba",
   "metadata": {},
   "outputs": [],
   "source": [
    "import pandas as pd"
   ]
  },
  {
   "cell_type": "markdown",
   "id": "abd33b8e",
   "metadata": {},
   "source": [
    "## Project Requirements"
   ]
  },
  {
   "cell_type": "markdown",
   "id": "b7060ae6",
   "metadata": {},
   "source": [
    "We’ve provided a csv file containing data about the game show *Jeopardy!* in a file named `jeopardy.csv`. Load the data into a DataFrame and investigate its contents. Try to print out specific columns.\n",
    "\n",
    "Note that in order to make this project as “real-world” as possible, we haven’t modified the data at all — we’re giving it to you exactly how we found it. As a result, this data isn’t as “clean” as the datasets you normally find on Codecademy. More specifically, there’s something odd about the column names. After you figure out the problem with the column names, you may want to rename them to make your life easier the rest of the project.\n",
    "\n",
    "In order to disply the full contents of a column, we’ve added this line of code to the top of your file:"
   ]
  },
  {
   "cell_type": "code",
   "execution_count": 3,
   "id": "6ced9af9",
   "metadata": {},
   "outputs": [],
   "source": [
    "pd.set_option('display.max_colwidth', None)"
   ]
  },
  {
   "cell_type": "code",
   "execution_count": 4,
   "id": "a1bdc37b",
   "metadata": {},
   "outputs": [
    {
     "data": {
      "text/html": [
       "<div>\n",
       "<style scoped>\n",
       "    .dataframe tbody tr th:only-of-type {\n",
       "        vertical-align: middle;\n",
       "    }\n",
       "\n",
       "    .dataframe tbody tr th {\n",
       "        vertical-align: top;\n",
       "    }\n",
       "\n",
       "    .dataframe thead th {\n",
       "        text-align: right;\n",
       "    }\n",
       "</style>\n",
       "<table border=\"1\" class=\"dataframe\">\n",
       "  <thead>\n",
       "    <tr style=\"text-align: right;\">\n",
       "      <th></th>\n",
       "      <th>Show Number</th>\n",
       "      <th>Air Date</th>\n",
       "      <th>Round</th>\n",
       "      <th>Category</th>\n",
       "      <th>Value</th>\n",
       "      <th>Question</th>\n",
       "      <th>Answer</th>\n",
       "    </tr>\n",
       "  </thead>\n",
       "  <tbody>\n",
       "    <tr>\n",
       "      <th>0</th>\n",
       "      <td>4680</td>\n",
       "      <td>2004-12-31</td>\n",
       "      <td>Jeopardy!</td>\n",
       "      <td>HISTORY</td>\n",
       "      <td>$200</td>\n",
       "      <td>For the last 8 years of his life, Galileo was under house arrest for espousing this man's theory</td>\n",
       "      <td>Copernicus</td>\n",
       "    </tr>\n",
       "    <tr>\n",
       "      <th>1</th>\n",
       "      <td>4680</td>\n",
       "      <td>2004-12-31</td>\n",
       "      <td>Jeopardy!</td>\n",
       "      <td>ESPN's TOP 10 ALL-TIME ATHLETES</td>\n",
       "      <td>$200</td>\n",
       "      <td>No. 2: 1912 Olympian; football star at Carlisle Indian School; 6 MLB seasons with the Reds, Giants &amp; Braves</td>\n",
       "      <td>Jim Thorpe</td>\n",
       "    </tr>\n",
       "    <tr>\n",
       "      <th>2</th>\n",
       "      <td>4680</td>\n",
       "      <td>2004-12-31</td>\n",
       "      <td>Jeopardy!</td>\n",
       "      <td>EVERYBODY TALKS ABOUT IT...</td>\n",
       "      <td>$200</td>\n",
       "      <td>The city of Yuma in this state has a record average of 4,055 hours of sunshine each year</td>\n",
       "      <td>Arizona</td>\n",
       "    </tr>\n",
       "    <tr>\n",
       "      <th>3</th>\n",
       "      <td>4680</td>\n",
       "      <td>2004-12-31</td>\n",
       "      <td>Jeopardy!</td>\n",
       "      <td>THE COMPANY LINE</td>\n",
       "      <td>$200</td>\n",
       "      <td>In 1963, live on \"The Art Linkletter Show\", this company served its billionth burger</td>\n",
       "      <td>McDonald's</td>\n",
       "    </tr>\n",
       "    <tr>\n",
       "      <th>4</th>\n",
       "      <td>4680</td>\n",
       "      <td>2004-12-31</td>\n",
       "      <td>Jeopardy!</td>\n",
       "      <td>EPITAPHS &amp; TRIBUTES</td>\n",
       "      <td>$200</td>\n",
       "      <td>Signer of the Dec. of Indep., framer of the Constitution of Mass., second President of the United States</td>\n",
       "      <td>John Adams</td>\n",
       "    </tr>\n",
       "  </tbody>\n",
       "</table>\n",
       "</div>"
      ],
      "text/plain": [
       "   Show Number    Air Date      Round                         Category  Value  \\\n",
       "0         4680  2004-12-31  Jeopardy!                          HISTORY   $200   \n",
       "1         4680  2004-12-31  Jeopardy!  ESPN's TOP 10 ALL-TIME ATHLETES   $200   \n",
       "2         4680  2004-12-31  Jeopardy!      EVERYBODY TALKS ABOUT IT...   $200   \n",
       "3         4680  2004-12-31  Jeopardy!                 THE COMPANY LINE   $200   \n",
       "4         4680  2004-12-31  Jeopardy!              EPITAPHS & TRIBUTES   $200   \n",
       "\n",
       "                                                                                                      Question  \\\n",
       "0             For the last 8 years of his life, Galileo was under house arrest for espousing this man's theory   \n",
       "1  No. 2: 1912 Olympian; football star at Carlisle Indian School; 6 MLB seasons with the Reds, Giants & Braves   \n",
       "2                     The city of Yuma in this state has a record average of 4,055 hours of sunshine each year   \n",
       "3                         In 1963, live on \"The Art Linkletter Show\", this company served its billionth burger   \n",
       "4     Signer of the Dec. of Indep., framer of the Constitution of Mass., second President of the United States   \n",
       "\n",
       "       Answer  \n",
       "0  Copernicus  \n",
       "1  Jim Thorpe  \n",
       "2     Arizona  \n",
       "3  McDonald's  \n",
       "4  John Adams  "
      ]
     },
     "execution_count": 4,
     "metadata": {},
     "output_type": "execute_result"
    }
   ],
   "source": [
    "jeopardy_data = pd.read_csv('jeopardy.csv')\n",
    "jeopardy_data.head()"
   ]
  },
  {
   "cell_type": "code",
   "execution_count": 5,
   "id": "eef097d3",
   "metadata": {},
   "outputs": [
    {
     "data": {
      "text/plain": [
       "Index(['Show Number', ' Air Date', ' Round', ' Category', ' Value',\n",
       "       ' Question', ' Answer'],\n",
       "      dtype='object')"
      ]
     },
     "execution_count": 5,
     "metadata": {},
     "output_type": "execute_result"
    }
   ],
   "source": [
    "jeopardy_data.columns"
   ]
  },
  {
   "cell_type": "code",
   "execution_count": 6,
   "id": "e86f0a51",
   "metadata": {},
   "outputs": [
    {
     "data": {
      "text/plain": [
       "Index(['Show Number', 'Air Date', 'Round', 'Category', 'Value', 'Question',\n",
       "       'Answer'],\n",
       "      dtype='object')"
      ]
     },
     "execution_count": 6,
     "metadata": {},
     "output_type": "execute_result"
    }
   ],
   "source": [
    "# rename columns to remove starting space\n",
    "jeopardy_data.columns = jeopardy_data.columns.str.lstrip()\n",
    "jeopardy_data.columns"
   ]
  },
  {
   "cell_type": "code",
   "execution_count": 7,
   "id": "c8aab342",
   "metadata": {
    "scrolled": true
   },
   "outputs": [
    {
     "data": {
      "text/html": [
       "<div>\n",
       "<style scoped>\n",
       "    .dataframe tbody tr th:only-of-type {\n",
       "        vertical-align: middle;\n",
       "    }\n",
       "\n",
       "    .dataframe tbody tr th {\n",
       "        vertical-align: top;\n",
       "    }\n",
       "\n",
       "    .dataframe thead th {\n",
       "        text-align: right;\n",
       "    }\n",
       "</style>\n",
       "<table border=\"1\" class=\"dataframe\">\n",
       "  <thead>\n",
       "    <tr style=\"text-align: right;\">\n",
       "      <th></th>\n",
       "      <th>Category</th>\n",
       "      <th>Answer</th>\n",
       "    </tr>\n",
       "  </thead>\n",
       "  <tbody>\n",
       "    <tr>\n",
       "      <th>0</th>\n",
       "      <td>HISTORY</td>\n",
       "      <td>Copernicus</td>\n",
       "    </tr>\n",
       "    <tr>\n",
       "      <th>1</th>\n",
       "      <td>ESPN's TOP 10 ALL-TIME ATHLETES</td>\n",
       "      <td>Jim Thorpe</td>\n",
       "    </tr>\n",
       "    <tr>\n",
       "      <th>2</th>\n",
       "      <td>EVERYBODY TALKS ABOUT IT...</td>\n",
       "      <td>Arizona</td>\n",
       "    </tr>\n",
       "    <tr>\n",
       "      <th>3</th>\n",
       "      <td>THE COMPANY LINE</td>\n",
       "      <td>McDonald's</td>\n",
       "    </tr>\n",
       "    <tr>\n",
       "      <th>4</th>\n",
       "      <td>EPITAPHS &amp; TRIBUTES</td>\n",
       "      <td>John Adams</td>\n",
       "    </tr>\n",
       "    <tr>\n",
       "      <th>5</th>\n",
       "      <td>3-LETTER WORDS</td>\n",
       "      <td>the ant</td>\n",
       "    </tr>\n",
       "    <tr>\n",
       "      <th>6</th>\n",
       "      <td>HISTORY</td>\n",
       "      <td>the Appian Way</td>\n",
       "    </tr>\n",
       "    <tr>\n",
       "      <th>7</th>\n",
       "      <td>ESPN's TOP 10 ALL-TIME ATHLETES</td>\n",
       "      <td>Michael Jordan</td>\n",
       "    </tr>\n",
       "    <tr>\n",
       "      <th>8</th>\n",
       "      <td>EVERYBODY TALKS ABOUT IT...</td>\n",
       "      <td>Washington</td>\n",
       "    </tr>\n",
       "    <tr>\n",
       "      <th>9</th>\n",
       "      <td>THE COMPANY LINE</td>\n",
       "      <td>Crate &amp; Barrel</td>\n",
       "    </tr>\n",
       "  </tbody>\n",
       "</table>\n",
       "</div>"
      ],
      "text/plain": [
       "                          Category          Answer\n",
       "0                          HISTORY      Copernicus\n",
       "1  ESPN's TOP 10 ALL-TIME ATHLETES      Jim Thorpe\n",
       "2      EVERYBODY TALKS ABOUT IT...         Arizona\n",
       "3                 THE COMPANY LINE      McDonald's\n",
       "4              EPITAPHS & TRIBUTES      John Adams\n",
       "5                   3-LETTER WORDS         the ant\n",
       "6                          HISTORY  the Appian Way\n",
       "7  ESPN's TOP 10 ALL-TIME ATHLETES  Michael Jordan\n",
       "8      EVERYBODY TALKS ABOUT IT...      Washington\n",
       "9                 THE COMPANY LINE  Crate & Barrel"
      ]
     },
     "execution_count": 7,
     "metadata": {},
     "output_type": "execute_result"
    }
   ],
   "source": [
    "jeopardy_data[['Category', 'Answer']].head(10)"
   ]
  },
  {
   "cell_type": "code",
   "execution_count": 8,
   "id": "711da977",
   "metadata": {},
   "outputs": [
    {
     "data": {
      "text/html": [
       "<div>\n",
       "<style scoped>\n",
       "    .dataframe tbody tr th:only-of-type {\n",
       "        vertical-align: middle;\n",
       "    }\n",
       "\n",
       "    .dataframe tbody tr th {\n",
       "        vertical-align: top;\n",
       "    }\n",
       "\n",
       "    .dataframe thead th {\n",
       "        text-align: right;\n",
       "    }\n",
       "</style>\n",
       "<table border=\"1\" class=\"dataframe\">\n",
       "  <thead>\n",
       "    <tr style=\"text-align: right;\">\n",
       "      <th></th>\n",
       "      <th>Category</th>\n",
       "      <th>Round</th>\n",
       "    </tr>\n",
       "  </thead>\n",
       "  <tbody>\n",
       "    <tr>\n",
       "      <th>216920</th>\n",
       "      <td>\"T\" BIRDS</td>\n",
       "      <td>Double Jeopardy!</td>\n",
       "    </tr>\n",
       "    <tr>\n",
       "      <th>216921</th>\n",
       "      <td>AUTHORS IN THEIR YOUTH</td>\n",
       "      <td>Double Jeopardy!</td>\n",
       "    </tr>\n",
       "    <tr>\n",
       "      <th>216922</th>\n",
       "      <td>QUOTATIONS</td>\n",
       "      <td>Double Jeopardy!</td>\n",
       "    </tr>\n",
       "    <tr>\n",
       "      <th>216923</th>\n",
       "      <td>WORLD CAPITALS</td>\n",
       "      <td>Double Jeopardy!</td>\n",
       "    </tr>\n",
       "    <tr>\n",
       "      <th>216924</th>\n",
       "      <td>OFF-BROADWAY</td>\n",
       "      <td>Double Jeopardy!</td>\n",
       "    </tr>\n",
       "    <tr>\n",
       "      <th>216925</th>\n",
       "      <td>RIDDLE ME THIS</td>\n",
       "      <td>Double Jeopardy!</td>\n",
       "    </tr>\n",
       "    <tr>\n",
       "      <th>216926</th>\n",
       "      <td>\"T\" BIRDS</td>\n",
       "      <td>Double Jeopardy!</td>\n",
       "    </tr>\n",
       "    <tr>\n",
       "      <th>216927</th>\n",
       "      <td>AUTHORS IN THEIR YOUTH</td>\n",
       "      <td>Double Jeopardy!</td>\n",
       "    </tr>\n",
       "    <tr>\n",
       "      <th>216928</th>\n",
       "      <td>QUOTATIONS</td>\n",
       "      <td>Double Jeopardy!</td>\n",
       "    </tr>\n",
       "    <tr>\n",
       "      <th>216929</th>\n",
       "      <td>HISTORIC NAMES</td>\n",
       "      <td>Final Jeopardy!</td>\n",
       "    </tr>\n",
       "  </tbody>\n",
       "</table>\n",
       "</div>"
      ],
      "text/plain": [
       "                      Category             Round\n",
       "216920               \"T\" BIRDS  Double Jeopardy!\n",
       "216921  AUTHORS IN THEIR YOUTH  Double Jeopardy!\n",
       "216922              QUOTATIONS  Double Jeopardy!\n",
       "216923          WORLD CAPITALS  Double Jeopardy!\n",
       "216924            OFF-BROADWAY  Double Jeopardy!\n",
       "216925          RIDDLE ME THIS  Double Jeopardy!\n",
       "216926               \"T\" BIRDS  Double Jeopardy!\n",
       "216927  AUTHORS IN THEIR YOUTH  Double Jeopardy!\n",
       "216928              QUOTATIONS  Double Jeopardy!\n",
       "216929          HISTORIC NAMES   Final Jeopardy!"
      ]
     },
     "execution_count": 8,
     "metadata": {},
     "output_type": "execute_result"
    }
   ],
   "source": [
    "jeopardy_data[['Category', 'Round']].tail(10)"
   ]
  },
  {
   "cell_type": "markdown",
   "id": "9e2f2379",
   "metadata": {},
   "source": [
    "**Variable**: Each as a separate column\n",
    "\n",
    "**Observation**: Each as a separate row"
   ]
  },
  {
   "cell_type": "code",
   "execution_count": 9,
   "id": "2a641c24",
   "metadata": {},
   "outputs": [
    {
     "data": {
      "text/plain": [
       "216930"
      ]
     },
     "execution_count": 9,
     "metadata": {},
     "output_type": "execute_result"
    }
   ],
   "source": [
    "len(jeopardy_data)"
   ]
  },
  {
   "cell_type": "code",
   "execution_count": 10,
   "id": "a8ae4f7b",
   "metadata": {},
   "outputs": [
    {
     "data": {
      "text/plain": [
       "False    216930\n",
       "dtype: int64"
      ]
     },
     "execution_count": 10,
     "metadata": {},
     "output_type": "execute_result"
    }
   ],
   "source": [
    "duplicates = jeopardy_data.duplicated()\n",
    "duplicates.value_counts()"
   ]
  },
  {
   "cell_type": "code",
   "execution_count": 11,
   "id": "c9b79599",
   "metadata": {},
   "outputs": [
    {
     "data": {
      "text/plain": [
       "array(['Jeopardy!', 'Double Jeopardy!', 'Final Jeopardy!', 'Tiebreaker'],\n",
       "      dtype=object)"
      ]
     },
     "execution_count": 11,
     "metadata": {},
     "output_type": "execute_result"
    }
   ],
   "source": [
    "jeopardy_data['Round'].unique()"
   ]
  },
  {
   "cell_type": "code",
   "execution_count": 12,
   "id": "510b55aa",
   "metadata": {},
   "outputs": [
    {
     "data": {
      "text/plain": [
       "BEFORE & AFTER             547\n",
       "SCIENCE                    519\n",
       "LITERATURE                 496\n",
       "AMERICAN HISTORY           418\n",
       "POTPOURRI                  401\n",
       "WORLD HISTORY              377\n",
       "WORD ORIGINS               371\n",
       "COLLEGES & UNIVERSITIES    351\n",
       "HISTORY                    349\n",
       "SPORTS                     342\n",
       "U.S. CITIES                339\n",
       "WORLD GEOGRAPHY            338\n",
       "BODIES OF WATER            327\n",
       "ANIMALS                    324\n",
       "STATE CAPITALS             314\n",
       "BUSINESS & INDUSTRY        311\n",
       "ISLANDS                    301\n",
       "WORLD CAPITALS             300\n",
       "U.S. GEOGRAPHY             299\n",
       "RELIGION                   297\n",
       "Name: Category, dtype: int64"
      ]
     },
     "execution_count": 12,
     "metadata": {},
     "output_type": "execute_result"
    }
   ],
   "source": [
    "# jeopardy_data['Category'].unique()\n",
    "jeopardy_data['Category'].value_counts().head(20)"
   ]
  },
  {
   "cell_type": "markdown",
   "id": "4fe13223",
   "metadata": {},
   "source": [
    "Write a function that filters the dataset for questions that contains all of the words in a list of words. For example, when the list `[\"King\", \"England\"]` was passed to our function, the function returned a DataFrame of 152 rows. Every row had the strings `\"King\"` and `\"England\"` somewhere in its `\" Question\"`.\n",
    "\n",
    "Note that in this example, we found 152 rows by filtering the *entire* dataset. You can download the entire dataset at the start or end of this project. The dataset used on Codecademy is only a fraction of the dataset so you won’t find as many rows.\n",
    "\n",
    "Test your function by printing out the column containing the question of each row of the dataset."
   ]
  },
  {
   "cell_type": "code",
   "execution_count": 13,
   "id": "1fcf76f4",
   "metadata": {},
   "outputs": [
    {
     "data": {
      "text/html": [
       "<div>\n",
       "<style scoped>\n",
       "    .dataframe tbody tr th:only-of-type {\n",
       "        vertical-align: middle;\n",
       "    }\n",
       "\n",
       "    .dataframe tbody tr th {\n",
       "        vertical-align: top;\n",
       "    }\n",
       "\n",
       "    .dataframe thead th {\n",
       "        text-align: right;\n",
       "    }\n",
       "</style>\n",
       "<table border=\"1\" class=\"dataframe\">\n",
       "  <thead>\n",
       "    <tr style=\"text-align: right;\">\n",
       "      <th></th>\n",
       "      <th>Show Number</th>\n",
       "      <th>Air Date</th>\n",
       "      <th>Round</th>\n",
       "      <th>Category</th>\n",
       "      <th>Value</th>\n",
       "      <th>Question</th>\n",
       "      <th>Answer</th>\n",
       "    </tr>\n",
       "  </thead>\n",
       "  <tbody>\n",
       "    <tr>\n",
       "      <th>0</th>\n",
       "      <td>4680</td>\n",
       "      <td>2004-12-31</td>\n",
       "      <td>Jeopardy!</td>\n",
       "      <td>HISTORY</td>\n",
       "      <td>$200</td>\n",
       "      <td>For the last 8 years of his life, Galileo was under house arrest for espousing this man's theory</td>\n",
       "      <td>Copernicus</td>\n",
       "    </tr>\n",
       "    <tr>\n",
       "      <th>280</th>\n",
       "      <td>4931</td>\n",
       "      <td>2006-02-06</td>\n",
       "      <td>Double Jeopardy!</td>\n",
       "      <td>SCIENCE</td>\n",
       "      <td>$1200</td>\n",
       "      <td>(&lt;a href=\"http://www.j-archive.com/media/2006-02-06_DJ_13.jpg\" target=\"_blank\"&gt;Sarah of the Clue Crew reads from the pole vault at Duke University's track in Durham, NC.&lt;/a&gt;)  In bending an elastic solid, stress is the force causing deformation &amp; this is the 6-letter term for &lt;a href=\"http://www.j-archive.com/media/2006-02-06_DJ_13a.jpg\" target=\"_blank\"&gt;the deformation&lt;/a&gt;</td>\n",
       "      <td>strain</td>\n",
       "    </tr>\n",
       "    <tr>\n",
       "      <th>439</th>\n",
       "      <td>6037</td>\n",
       "      <td>2010-12-07</td>\n",
       "      <td>Jeopardy!</td>\n",
       "      <td>LET'S HIT IT</td>\n",
       "      <td>$800</td>\n",
       "      <td>Everlast makes these that come in speed and heavy varieties</td>\n",
       "      <td>punching bags</td>\n",
       "    </tr>\n",
       "    <tr>\n",
       "      <th>679</th>\n",
       "      <td>2735</td>\n",
       "      <td>1996-06-21</td>\n",
       "      <td>Jeopardy!</td>\n",
       "      <td>SHAKESPEAREAN LAST SCENES</td>\n",
       "      <td>$400</td>\n",
       "      <td>Puck's last speech in this play begins, \"If we shadows have offended, think but this--and all is mended\"</td>\n",
       "      <td>A Midsummer Night's Dream</td>\n",
       "    </tr>\n",
       "    <tr>\n",
       "      <th>685</th>\n",
       "      <td>2735</td>\n",
       "      <td>1996-06-21</td>\n",
       "      <td>Jeopardy!</td>\n",
       "      <td>SHAKESPEAREAN LAST SCENES</td>\n",
       "      <td>$500</td>\n",
       "      <td>In the last scene of this comedy, Petruchio wins a bet that he has the most obedient wife</td>\n",
       "      <td>The Taming of the Shrew</td>\n",
       "    </tr>\n",
       "    <tr>\n",
       "      <th>...</th>\n",
       "      <td>...</td>\n",
       "      <td>...</td>\n",
       "      <td>...</td>\n",
       "      <td>...</td>\n",
       "      <td>...</td>\n",
       "      <td>...</td>\n",
       "      <td>...</td>\n",
       "    </tr>\n",
       "    <tr>\n",
       "      <th>216652</th>\n",
       "      <td>3940</td>\n",
       "      <td>2001-10-19</td>\n",
       "      <td>Jeopardy!</td>\n",
       "      <td>LAST BUT NOT LEAST</td>\n",
       "      <td>$400</td>\n",
       "      <td>Vadim Bakatin became the last head of this intelligence service in 1991</td>\n",
       "      <td>KGB</td>\n",
       "    </tr>\n",
       "    <tr>\n",
       "      <th>216658</th>\n",
       "      <td>3940</td>\n",
       "      <td>2001-10-19</td>\n",
       "      <td>Double Jeopardy!</td>\n",
       "      <td>AMERICAN HISTORIC EVENTS</td>\n",
       "      <td>$200</td>\n",
       "      <td>On May 15, 1963 Gordon Cooper became the last American to do this alone</td>\n",
       "      <td>last solo American to go into space</td>\n",
       "    </tr>\n",
       "    <tr>\n",
       "      <th>216807</th>\n",
       "      <td>5070</td>\n",
       "      <td>2006-09-29</td>\n",
       "      <td>Final Jeopardy!</td>\n",
       "      <td>NATIONAL CAPITALS</td>\n",
       "      <td>None</td>\n",
       "      <td>This city's website calls it \"the last divided capital in Europe\"</td>\n",
       "      <td>Nicosia</td>\n",
       "    </tr>\n",
       "    <tr>\n",
       "      <th>216833</th>\n",
       "      <td>5195</td>\n",
       "      <td>2007-03-23</td>\n",
       "      <td>Jeopardy!</td>\n",
       "      <td>THE DIRECTOR'S CHAIR</td>\n",
       "      <td>$1000</td>\n",
       "      <td>\"La Voce della Luna\" was the last movie by this great Italian director</td>\n",
       "      <td>(Federico) Fellini</td>\n",
       "    </tr>\n",
       "    <tr>\n",
       "      <th>216929</th>\n",
       "      <td>4999</td>\n",
       "      <td>2006-05-11</td>\n",
       "      <td>Final Jeopardy!</td>\n",
       "      <td>HISTORIC NAMES</td>\n",
       "      <td>None</td>\n",
       "      <td>A silent movie title includes the last name of this 18th c. statesman &amp; favorite of Catherine the Great</td>\n",
       "      <td>Grigori Alexandrovich Potemkin</td>\n",
       "    </tr>\n",
       "  </tbody>\n",
       "</table>\n",
       "<p>2772 rows × 7 columns</p>\n",
       "</div>"
      ],
      "text/plain": [
       "        Show Number    Air Date             Round                   Category  \\\n",
       "0              4680  2004-12-31         Jeopardy!                    HISTORY   \n",
       "280            4931  2006-02-06  Double Jeopardy!                    SCIENCE   \n",
       "439            6037  2010-12-07         Jeopardy!               LET'S HIT IT   \n",
       "679            2735  1996-06-21         Jeopardy!  SHAKESPEAREAN LAST SCENES   \n",
       "685            2735  1996-06-21         Jeopardy!  SHAKESPEAREAN LAST SCENES   \n",
       "...             ...         ...               ...                        ...   \n",
       "216652         3940  2001-10-19         Jeopardy!         LAST BUT NOT LEAST   \n",
       "216658         3940  2001-10-19  Double Jeopardy!   AMERICAN HISTORIC EVENTS   \n",
       "216807         5070  2006-09-29   Final Jeopardy!          NATIONAL CAPITALS   \n",
       "216833         5195  2007-03-23         Jeopardy!       THE DIRECTOR'S CHAIR   \n",
       "216929         4999  2006-05-11   Final Jeopardy!             HISTORIC NAMES   \n",
       "\n",
       "        Value  \\\n",
       "0        $200   \n",
       "280     $1200   \n",
       "439      $800   \n",
       "679      $400   \n",
       "685      $500   \n",
       "...       ...   \n",
       "216652   $400   \n",
       "216658   $200   \n",
       "216807   None   \n",
       "216833  $1000   \n",
       "216929   None   \n",
       "\n",
       "                                                                                                                                                                                                                                                                                                                                                                                       Question  \\\n",
       "0                                                                                                                                                                                                                                                                                              For the last 8 years of his life, Galileo was under house arrest for espousing this man's theory   \n",
       "280     (<a href=\"http://www.j-archive.com/media/2006-02-06_DJ_13.jpg\" target=\"_blank\">Sarah of the Clue Crew reads from the pole vault at Duke University's track in Durham, NC.</a>)  In bending an elastic solid, stress is the force causing deformation & this is the 6-letter term for <a href=\"http://www.j-archive.com/media/2006-02-06_DJ_13a.jpg\" target=\"_blank\">the deformation</a>   \n",
       "439                                                                                                                                                                                                                                                                                                                                 Everlast makes these that come in speed and heavy varieties   \n",
       "679                                                                                                                                                                                                                                                                                    Puck's last speech in this play begins, \"If we shadows have offended, think but this--and all is mended\"   \n",
       "685                                                                                                                                                                                                                                                                                                   In the last scene of this comedy, Petruchio wins a bet that he has the most obedient wife   \n",
       "...                                                                                                                                                                                                                                                                                                                                                                                         ...   \n",
       "216652                                                                                                                                                                                                                                                                                                                  Vadim Bakatin became the last head of this intelligence service in 1991   \n",
       "216658                                                                                                                                                                                                                                                                                                                  On May 15, 1963 Gordon Cooper became the last American to do this alone   \n",
       "216807                                                                                                                                                                                                                                                                                                                        This city's website calls it \"the last divided capital in Europe\"   \n",
       "216833                                                                                                                                                                                                                                                                                                                   \"La Voce della Luna\" was the last movie by this great Italian director   \n",
       "216929                                                                                                                                                                                                                                                                                  A silent movie title includes the last name of this 18th c. statesman & favorite of Catherine the Great   \n",
       "\n",
       "                                     Answer  \n",
       "0                                Copernicus  \n",
       "280                                  strain  \n",
       "439                           punching bags  \n",
       "679               A Midsummer Night's Dream  \n",
       "685                 The Taming of the Shrew  \n",
       "...                                     ...  \n",
       "216652                                  KGB  \n",
       "216658  last solo American to go into space  \n",
       "216807                              Nicosia  \n",
       "216833                   (Federico) Fellini  \n",
       "216929       Grigori Alexandrovich Potemkin  \n",
       "\n",
       "[2772 rows x 7 columns]"
      ]
     },
     "execution_count": 13,
     "metadata": {},
     "output_type": "execute_result"
    }
   ],
   "source": [
    "test_find = jeopardy_data[jeopardy_data['Question'].str.contains('last')]\n",
    "# test_find.head()\n",
    "test_find"
   ]
  },
  {
   "cell_type": "code",
   "execution_count": 14,
   "id": "292c87e6",
   "metadata": {
    "scrolled": false
   },
   "outputs": [
    {
     "data": {
      "text/html": [
       "<div>\n",
       "<style scoped>\n",
       "    .dataframe tbody tr th:only-of-type {\n",
       "        vertical-align: middle;\n",
       "    }\n",
       "\n",
       "    .dataframe tbody tr th {\n",
       "        vertical-align: top;\n",
       "    }\n",
       "\n",
       "    .dataframe thead th {\n",
       "        text-align: right;\n",
       "    }\n",
       "</style>\n",
       "<table border=\"1\" class=\"dataframe\">\n",
       "  <thead>\n",
       "    <tr style=\"text-align: right;\">\n",
       "      <th></th>\n",
       "      <th>Show Number</th>\n",
       "      <th>Air Date</th>\n",
       "      <th>Round</th>\n",
       "      <th>Category</th>\n",
       "      <th>Value</th>\n",
       "      <th>Question</th>\n",
       "      <th>Answer</th>\n",
       "    </tr>\n",
       "  </thead>\n",
       "  <tbody>\n",
       "    <tr>\n",
       "      <th>4953</th>\n",
       "      <td>3003</td>\n",
       "      <td>1997-09-24</td>\n",
       "      <td>Double Jeopardy!</td>\n",
       "      <td>\"PH\"UN WORDS</td>\n",
       "      <td>$200</td>\n",
       "      <td>Both England's King George V &amp; FDR put their stamp of approval on this \"King of Hobbies\"</td>\n",
       "      <td>Philately (stamp collecting)</td>\n",
       "    </tr>\n",
       "    <tr>\n",
       "      <th>14912</th>\n",
       "      <td>2832</td>\n",
       "      <td>1996-12-17</td>\n",
       "      <td>Jeopardy!</td>\n",
       "      <td>WORLD HISTORY</td>\n",
       "      <td>$100</td>\n",
       "      <td>This country's King Louis IV was nicknamed \"Louis From Overseas\" because he was raised in England</td>\n",
       "      <td>France</td>\n",
       "    </tr>\n",
       "    <tr>\n",
       "      <th>21511</th>\n",
       "      <td>4650</td>\n",
       "      <td>2004-11-19</td>\n",
       "      <td>Jeopardy!</td>\n",
       "      <td>THE \"O.C.\"</td>\n",
       "      <td>$1000</td>\n",
       "      <td>this man and his son ruled England following the execution of King Charles I</td>\n",
       "      <td>Oliver Cromwell</td>\n",
       "    </tr>\n",
       "    <tr>\n",
       "      <th>23810</th>\n",
       "      <td>4862</td>\n",
       "      <td>2005-11-01</td>\n",
       "      <td>Jeopardy!</td>\n",
       "      <td>NAME THE YEAR</td>\n",
       "      <td>$400</td>\n",
       "      <td>William the Conqueror was crowned King of England in Westminster Abbey on Christmas Day in this year</td>\n",
       "      <td>1066</td>\n",
       "    </tr>\n",
       "    <tr>\n",
       "      <th>27555</th>\n",
       "      <td>1799</td>\n",
       "      <td>1992-05-28</td>\n",
       "      <td>Double Jeopardy!</td>\n",
       "      <td>HISTORIC IN-LAWS</td>\n",
       "      <td>$600</td>\n",
       "      <td>This member of the Medici family was the mother-in-law of England's King Charles I</td>\n",
       "      <td>Marie de Medici</td>\n",
       "    </tr>\n",
       "  </tbody>\n",
       "</table>\n",
       "</div>"
      ],
      "text/plain": [
       "       Show Number    Air Date             Round          Category  Value  \\\n",
       "4953          3003  1997-09-24  Double Jeopardy!      \"PH\"UN WORDS   $200   \n",
       "14912         2832  1996-12-17         Jeopardy!     WORLD HISTORY   $100   \n",
       "21511         4650  2004-11-19         Jeopardy!        THE \"O.C.\"  $1000   \n",
       "23810         4862  2005-11-01         Jeopardy!     NAME THE YEAR   $400   \n",
       "27555         1799  1992-05-28  Double Jeopardy!  HISTORIC IN-LAWS   $600   \n",
       "\n",
       "                                                                                                   Question  \\\n",
       "4953               Both England's King George V & FDR put their stamp of approval on this \"King of Hobbies\"   \n",
       "14912     This country's King Louis IV was nicknamed \"Louis From Overseas\" because he was raised in England   \n",
       "21511                          this man and his son ruled England following the execution of King Charles I   \n",
       "23810  William the Conqueror was crowned King of England in Westminster Abbey on Christmas Day in this year   \n",
       "27555                    This member of the Medici family was the mother-in-law of England's King Charles I   \n",
       "\n",
       "                             Answer  \n",
       "4953   Philately (stamp collecting)  \n",
       "14912                        France  \n",
       "21511               Oliver Cromwell  \n",
       "23810                          1066  \n",
       "27555               Marie de Medici  "
      ]
     },
     "execution_count": 14,
     "metadata": {},
     "output_type": "execute_result"
    }
   ],
   "source": [
    "# cc_test = jeopardy_data[jeopardy_data['Question'].str.contains('King','England')]\n",
    "cc_test = jeopardy_data[(jeopardy_data['Question'].str.contains('King')) & (jeopardy_data['Question'].str.contains('England'))]\n",
    "# cc_test['Question']\n",
    "cc_test.head()"
   ]
  },
  {
   "cell_type": "code",
   "execution_count": 15,
   "id": "db6d5f73",
   "metadata": {},
   "outputs": [
    {
     "data": {
      "text/plain": [
       "49"
      ]
     },
     "execution_count": 15,
     "metadata": {},
     "output_type": "execute_result"
    }
   ],
   "source": [
    "len(cc_test)"
   ]
  },
  {
   "cell_type": "code",
   "execution_count": 16,
   "id": "9655ee3f",
   "metadata": {},
   "outputs": [
    {
     "data": {
      "text/html": [
       "<div>\n",
       "<style scoped>\n",
       "    .dataframe tbody tr th:only-of-type {\n",
       "        vertical-align: middle;\n",
       "    }\n",
       "\n",
       "    .dataframe tbody tr th {\n",
       "        vertical-align: top;\n",
       "    }\n",
       "\n",
       "    .dataframe thead th {\n",
       "        text-align: right;\n",
       "    }\n",
       "</style>\n",
       "<table border=\"1\" class=\"dataframe\">\n",
       "  <thead>\n",
       "    <tr style=\"text-align: right;\">\n",
       "      <th></th>\n",
       "      <th>Question</th>\n",
       "    </tr>\n",
       "  </thead>\n",
       "  <tbody>\n",
       "    <tr>\n",
       "      <th>4953</th>\n",
       "      <td>Both England's King George V &amp; FDR put their stamp of approval on this \"King of Hobbies\"</td>\n",
       "    </tr>\n",
       "    <tr>\n",
       "      <th>14912</th>\n",
       "      <td>This country's King Louis IV was nicknamed \"Louis From Overseas\" because he was raised in England</td>\n",
       "    </tr>\n",
       "    <tr>\n",
       "      <th>21511</th>\n",
       "      <td>this man and his son ruled England following the execution of King Charles I</td>\n",
       "    </tr>\n",
       "    <tr>\n",
       "      <th>23810</th>\n",
       "      <td>William the Conqueror was crowned King of England in Westminster Abbey on Christmas Day in this year</td>\n",
       "    </tr>\n",
       "    <tr>\n",
       "      <th>27555</th>\n",
       "      <td>This member of the Medici family was the mother-in-law of England's King Charles I</td>\n",
       "    </tr>\n",
       "  </tbody>\n",
       "</table>\n",
       "</div>"
      ],
      "text/plain": [
       "                                                                                                   Question\n",
       "4953               Both England's King George V & FDR put their stamp of approval on this \"King of Hobbies\"\n",
       "14912     This country's King Louis IV was nicknamed \"Louis From Overseas\" because he was raised in England\n",
       "21511                          this man and his son ruled England following the execution of King Charles I\n",
       "23810  William the Conqueror was crowned King of England in Westminster Abbey on Christmas Day in this year\n",
       "27555                    This member of the Medici family was the mother-in-law of England's King Charles I"
      ]
     },
     "execution_count": 16,
     "metadata": {},
     "output_type": "execute_result"
    }
   ],
   "source": [
    "cc_test[['Question']].head()"
   ]
  },
  {
   "cell_type": "markdown",
   "id": "8f0dd3b8",
   "metadata": {},
   "source": [
    "Hint: You could use a lambda function to do this. Our lambda function uses the `all` function (https://docs.python.org/3/library/functions.html#all) to check if all elements of the input list are in the question."
   ]
  },
  {
   "cell_type": "code",
   "execution_count": 17,
   "id": "679a8000",
   "metadata": {},
   "outputs": [
    {
     "data": {
      "text/html": [
       "<div>\n",
       "<style scoped>\n",
       "    .dataframe tbody tr th:only-of-type {\n",
       "        vertical-align: middle;\n",
       "    }\n",
       "\n",
       "    .dataframe tbody tr th {\n",
       "        vertical-align: top;\n",
       "    }\n",
       "\n",
       "    .dataframe thead th {\n",
       "        text-align: right;\n",
       "    }\n",
       "</style>\n",
       "<table border=\"1\" class=\"dataframe\">\n",
       "  <thead>\n",
       "    <tr style=\"text-align: right;\">\n",
       "      <th></th>\n",
       "      <th>Show Number</th>\n",
       "      <th>Air Date</th>\n",
       "      <th>Round</th>\n",
       "      <th>Category</th>\n",
       "      <th>Value</th>\n",
       "      <th>Question</th>\n",
       "      <th>Answer</th>\n",
       "    </tr>\n",
       "  </thead>\n",
       "  <tbody>\n",
       "    <tr>\n",
       "      <th>4953</th>\n",
       "      <td>3003</td>\n",
       "      <td>1997-09-24</td>\n",
       "      <td>Double Jeopardy!</td>\n",
       "      <td>\"PH\"UN WORDS</td>\n",
       "      <td>$200</td>\n",
       "      <td>Both England's King George V &amp; FDR put their stamp of approval on this \"King of Hobbies\"</td>\n",
       "      <td>Philately (stamp collecting)</td>\n",
       "    </tr>\n",
       "    <tr>\n",
       "      <th>14912</th>\n",
       "      <td>2832</td>\n",
       "      <td>1996-12-17</td>\n",
       "      <td>Jeopardy!</td>\n",
       "      <td>WORLD HISTORY</td>\n",
       "      <td>$100</td>\n",
       "      <td>This country's King Louis IV was nicknamed \"Louis From Overseas\" because he was raised in England</td>\n",
       "      <td>France</td>\n",
       "    </tr>\n",
       "    <tr>\n",
       "      <th>21511</th>\n",
       "      <td>4650</td>\n",
       "      <td>2004-11-19</td>\n",
       "      <td>Jeopardy!</td>\n",
       "      <td>THE \"O.C.\"</td>\n",
       "      <td>$1000</td>\n",
       "      <td>this man and his son ruled England following the execution of King Charles I</td>\n",
       "      <td>Oliver Cromwell</td>\n",
       "    </tr>\n",
       "    <tr>\n",
       "      <th>23810</th>\n",
       "      <td>4862</td>\n",
       "      <td>2005-11-01</td>\n",
       "      <td>Jeopardy!</td>\n",
       "      <td>NAME THE YEAR</td>\n",
       "      <td>$400</td>\n",
       "      <td>William the Conqueror was crowned King of England in Westminster Abbey on Christmas Day in this year</td>\n",
       "      <td>1066</td>\n",
       "    </tr>\n",
       "    <tr>\n",
       "      <th>27555</th>\n",
       "      <td>1799</td>\n",
       "      <td>1992-05-28</td>\n",
       "      <td>Double Jeopardy!</td>\n",
       "      <td>HISTORIC IN-LAWS</td>\n",
       "      <td>$600</td>\n",
       "      <td>This member of the Medici family was the mother-in-law of England's King Charles I</td>\n",
       "      <td>Marie de Medici</td>\n",
       "    </tr>\n",
       "  </tbody>\n",
       "</table>\n",
       "</div>"
      ],
      "text/plain": [
       "       Show Number    Air Date             Round          Category  Value  \\\n",
       "4953          3003  1997-09-24  Double Jeopardy!      \"PH\"UN WORDS   $200   \n",
       "14912         2832  1996-12-17         Jeopardy!     WORLD HISTORY   $100   \n",
       "21511         4650  2004-11-19         Jeopardy!        THE \"O.C.\"  $1000   \n",
       "23810         4862  2005-11-01         Jeopardy!     NAME THE YEAR   $400   \n",
       "27555         1799  1992-05-28  Double Jeopardy!  HISTORIC IN-LAWS   $600   \n",
       "\n",
       "                                                                                                   Question  \\\n",
       "4953               Both England's King George V & FDR put their stamp of approval on this \"King of Hobbies\"   \n",
       "14912     This country's King Louis IV was nicknamed \"Louis From Overseas\" because he was raised in England   \n",
       "21511                          this man and his son ruled England following the execution of King Charles I   \n",
       "23810  William the Conqueror was crowned King of England in Westminster Abbey on Christmas Day in this year   \n",
       "27555                    This member of the Medici family was the mother-in-law of England's King Charles I   \n",
       "\n",
       "                             Answer  \n",
       "4953   Philately (stamp collecting)  \n",
       "14912                        France  \n",
       "21511               Oliver Cromwell  \n",
       "23810                          1066  \n",
       "27555               Marie de Medici  "
      ]
     },
     "execution_count": 17,
     "metadata": {},
     "output_type": "execute_result"
    }
   ],
   "source": [
    "def jeopardy_filter(dataset, words):\n",
    "#     def all(words):\n",
    "#         for word in words:\n",
    "#             if not word:\n",
    "#                 return False\n",
    "#         return True\n",
    "# don't need to define all function, can just use it\n",
    "    filter = lambda question_str: all(word in question_str for word in words)\n",
    "    return dataset.loc[dataset['Question'].apply(filter)]\n",
    "\n",
    "# how do you make an argument for the 'Question' label?\n",
    "\n",
    "f_test = jeopardy_filter(jeopardy_data, ['King', 'England'])\n",
    "f_test.head()"
   ]
  },
  {
   "cell_type": "code",
   "execution_count": 18,
   "id": "c52893bf",
   "metadata": {},
   "outputs": [
    {
     "name": "stdout",
     "output_type": "stream",
     "text": [
      "49\n"
     ]
    }
   ],
   "source": [
    "print(len(f_test))"
   ]
  },
  {
   "cell_type": "markdown",
   "id": "c596d09e",
   "metadata": {},
   "source": [
    "Test your original function with a few different sets of words to try to find some ways your function breaks. Edit your function so it is more robust.\n",
    "\n",
    "For example, think about capitalization. We probably want to find questions that contain the word `\"King\"` or `\"king\"`.\n",
    "\n",
    "You may also want to check to make sure you don’t find rows that contain substrings of your given words. For example, our function found a question that didn’t contain the word `\"king\"`, however it did contain the word `\"viking\"` — it found the `\"king\"` inside `\"viking\"`. Note that this also comes with some drawbacks — you would no longer find questions that contained words like `\"England's\"`.\n"
   ]
  },
  {
   "cell_type": "code",
   "execution_count": 19,
   "id": "dd1101fe",
   "metadata": {},
   "outputs": [
    {
     "data": {
      "text/html": [
       "<div>\n",
       "<style scoped>\n",
       "    .dataframe tbody tr th:only-of-type {\n",
       "        vertical-align: middle;\n",
       "    }\n",
       "\n",
       "    .dataframe tbody tr th {\n",
       "        vertical-align: top;\n",
       "    }\n",
       "\n",
       "    .dataframe thead th {\n",
       "        text-align: right;\n",
       "    }\n",
       "</style>\n",
       "<table border=\"1\" class=\"dataframe\">\n",
       "  <thead>\n",
       "    <tr style=\"text-align: right;\">\n",
       "      <th></th>\n",
       "      <th>Show Number</th>\n",
       "      <th>Air Date</th>\n",
       "      <th>Round</th>\n",
       "      <th>Category</th>\n",
       "      <th>Value</th>\n",
       "      <th>Question</th>\n",
       "      <th>Answer</th>\n",
       "    </tr>\n",
       "  </thead>\n",
       "  <tbody>\n",
       "    <tr>\n",
       "      <th>6337</th>\n",
       "      <td>3517</td>\n",
       "      <td>1999-12-14</td>\n",
       "      <td>Double Jeopardy!</td>\n",
       "      <td>Y1K</td>\n",
       "      <td>$800</td>\n",
       "      <td>In retaliation for Viking raids, this \"Unready\" king of England attacks Norse areas of the Isle of Man</td>\n",
       "      <td>Ethelred</td>\n",
       "    </tr>\n",
       "    <tr>\n",
       "      <th>9191</th>\n",
       "      <td>3907</td>\n",
       "      <td>2001-09-04</td>\n",
       "      <td>Double Jeopardy!</td>\n",
       "      <td>WON THE BATTLE</td>\n",
       "      <td>$800</td>\n",
       "      <td>This king of England beat the odds to trounce the French in the 1415 Battle of Agincourt</td>\n",
       "      <td>Henry V</td>\n",
       "    </tr>\n",
       "    <tr>\n",
       "      <th>13454</th>\n",
       "      <td>4726</td>\n",
       "      <td>2005-03-07</td>\n",
       "      <td>Jeopardy!</td>\n",
       "      <td>A NUMBER FROM 1 TO 10</td>\n",
       "      <td>$1000</td>\n",
       "      <td>It's the number that followed the last king of England named William</td>\n",
       "      <td>4</td>\n",
       "    </tr>\n",
       "    <tr>\n",
       "      <th>18076</th>\n",
       "      <td>3227</td>\n",
       "      <td>1998-09-22</td>\n",
       "      <td>Double Jeopardy!</td>\n",
       "      <td>WORLD HISTORY</td>\n",
       "      <td>$1000</td>\n",
       "      <td>In 1199 this crusader king of England was mortally wounded while besieging the castle of Chalus</td>\n",
       "      <td>Richard the Lionhearted</td>\n",
       "    </tr>\n",
       "    <tr>\n",
       "      <th>19168</th>\n",
       "      <td>3109</td>\n",
       "      <td>1998-02-19</td>\n",
       "      <td>Jeopardy!</td>\n",
       "      <td>HISTORIC WORLD LEADERS</td>\n",
       "      <td>$300</td>\n",
       "      <td>He was the only king of England to have \"The Great\" tacked on to his name</td>\n",
       "      <td>Alfred</td>\n",
       "    </tr>\n",
       "  </tbody>\n",
       "</table>\n",
       "</div>"
      ],
      "text/plain": [
       "       Show Number    Air Date             Round                Category  \\\n",
       "6337          3517  1999-12-14  Double Jeopardy!                     Y1K   \n",
       "9191          3907  2001-09-04  Double Jeopardy!          WON THE BATTLE   \n",
       "13454         4726  2005-03-07         Jeopardy!   A NUMBER FROM 1 TO 10   \n",
       "18076         3227  1998-09-22  Double Jeopardy!           WORLD HISTORY   \n",
       "19168         3109  1998-02-19         Jeopardy!  HISTORIC WORLD LEADERS   \n",
       "\n",
       "       Value  \\\n",
       "6337    $800   \n",
       "9191    $800   \n",
       "13454  $1000   \n",
       "18076  $1000   \n",
       "19168   $300   \n",
       "\n",
       "                                                                                                     Question  \\\n",
       "6337   In retaliation for Viking raids, this \"Unready\" king of England attacks Norse areas of the Isle of Man   \n",
       "9191                 This king of England beat the odds to trounce the French in the 1415 Battle of Agincourt   \n",
       "13454                                    It's the number that followed the last king of England named William   \n",
       "18076         In 1199 this crusader king of England was mortally wounded while besieging the castle of Chalus   \n",
       "19168                               He was the only king of England to have \"The Great\" tacked on to his name   \n",
       "\n",
       "                        Answer  \n",
       "6337                  Ethelred  \n",
       "9191                   Henry V  \n",
       "13454                        4  \n",
       "18076  Richard the Lionhearted  \n",
       "19168                   Alfred  "
      ]
     },
     "execution_count": 19,
     "metadata": {},
     "output_type": "execute_result"
    }
   ],
   "source": [
    "def jeopardy_filter(dataset, words):\n",
    "    filter = lambda question_str: all(' ' + word.lower() + ' ' in question_str.lower() for word in words)\n",
    "    return dataset.loc[dataset['Question'].apply(filter)]\n",
    "\n",
    "test_f2 = jeopardy_filter(jeopardy_data, ['King', 'England'])\n",
    "test_f2.head()"
   ]
  },
  {
   "cell_type": "markdown",
   "id": "8bd26106",
   "metadata": {},
   "source": [
    "We may want to eventually compute aggregate statistics, like `.mean()` on the `\" Value\"` column. But right now, the values in that column are strings. Convert the `\" Value\"` column to floats. If you’d like to, you can create a new column with the float values.\n",
    "\n",
    "Now that you can filter the dataset of question, use your new column that contains the float values of each question to find the “difficulty” of certain topics. For example, what is the average value of questions that contain the word `\"King\"`?\n",
    "\n",
    "Make sure to use the dataset that contains the float values as the dataset you use in your filtering function."
   ]
  },
  {
   "cell_type": "code",
   "execution_count": 20,
   "id": "4c7c937a",
   "metadata": {},
   "outputs": [
    {
     "data": {
      "text/plain": [
       "806.9708846584547"
      ]
     },
     "execution_count": 20,
     "metadata": {},
     "output_type": "execute_result"
    }
   ],
   "source": [
    "jeopardy_data[\"Float Value\"] = jeopardy_data[\"Value\"].apply(lambda x: float(x[1:].replace(',','')) if x != \"None\" else 0)\n",
    "\n",
    "f_difficulty = jeopardy_filter(jeopardy_data, [\"King\"])\n",
    "f_difficulty[\"Float Value\"].mean()"
   ]
  },
  {
   "cell_type": "markdown",
   "id": "bc00a73d",
   "metadata": {},
   "source": [
    "Write a function that returns the count of the unique answers to all of the questions in a dataset. For example, after filtering the entire dataset to only questions containing the word `\"King\"`, we could then find all of the unique answers to those questions. The answer “Henry VIII” appeared 31 times and was the most common answer."
   ]
  },
  {
   "cell_type": "code",
   "execution_count": 21,
   "id": "309cfed1",
   "metadata": {},
   "outputs": [
    {
     "data": {
      "text/plain": [
       "Henry VIII                           31\n",
       "Richard III                          20\n",
       "Sweden                               18\n",
       "Norway                               18\n",
       "Solomon                              17\n",
       "                                     ..\n",
       "Bad, Bad Leroy Brown                  1\n",
       "Elephants                             1\n",
       "Deborah Kerr                          1\n",
       "Ruritania                             1\n",
       "a pyramid (the pyramids accepted)     1\n",
       "Name: Answer, Length: 1040, dtype: int64"
      ]
     },
     "execution_count": 21,
     "metadata": {},
     "output_type": "execute_result"
    }
   ],
   "source": [
    "def unique_answers(dataset, words):\n",
    "    filtered = jeopardy_filter(dataset, words)\n",
    "    answer = filtered['Answer'].value_counts()\n",
    "    return answer\n",
    "    \n",
    "unique_answers(jeopardy_data, ['King'])"
   ]
  },
  {
   "cell_type": "code",
   "execution_count": 22,
   "id": "53220205",
   "metadata": {
    "scrolled": true
   },
   "outputs": [
    {
     "data": {
      "text/plain": [
       "William the Conqueror                        3\n",
       "Richard the Lionhearted                      3\n",
       "Alfred                                       2\n",
       "King Edward VIII                             2\n",
       "Richard the Lionheart                        2\n",
       "Henry VIII                                   2\n",
       "William III                                  1\n",
       "Georgia                                      1\n",
       "IV                                           1\n",
       "Richard I                                    1\n",
       "James II                                     1\n",
       "Richard Branson                              1\n",
       "Old King Cole                                1\n",
       "Ethelred                                     1\n",
       "James (I)                                    1\n",
       "Battle of Hastings (which Harold II lost)    1\n",
       "William                                      1\n",
       "Westminster Abbey                            1\n",
       "William II                                   1\n",
       "George I                                     1\n",
       "Wales                                        1\n",
       "William of Orange roughy                     1\n",
       "Denmark                                      1\n",
       "George IV                                    1\n",
       "Henry VII                                    1\n",
       "Henry IV                                     1\n",
       "4                                            1\n",
       "Oliver Cromwell                              1\n",
       "1066                                         1\n",
       "Aethelred the Unready                        1\n",
       "Harold II                                    1\n",
       "Richard I (Richard the Lionhearted)          1\n",
       "Edward VI                                    1\n",
       "King Hussein                                 1\n",
       "Henry V                                      1\n",
       "Richard III                                  1\n",
       "Plantagenet                                  1\n",
       "Charles I                                    1\n",
       "Norway                                       1\n",
       "Canute                                       1\n",
       "Edward                                       1\n",
       "George                                       1\n",
       "Edward VII                                   1\n",
       "Name: Answer, dtype: int64"
      ]
     },
     "execution_count": 22,
     "metadata": {},
     "output_type": "execute_result"
    }
   ],
   "source": [
    "unique_answers(jeopardy_data, ['king', 'england'])"
   ]
  },
  {
   "cell_type": "code",
   "execution_count": 23,
   "id": "faf3902b",
   "metadata": {},
   "outputs": [
    {
     "data": {
      "text/plain": [
       "Nicholas II                        6\n",
       "Hawaii                             6\n",
       "13                                 5\n",
       "Portugal                           5\n",
       "Yorktown                           5\n",
       "                                  ..\n",
       "Gale Sayers                        1\n",
       "Van Gogh                           1\n",
       "Walter Reed Army Medical Center    1\n",
       "Vernon & Irene Castle              1\n",
       "Grigori Alexandrovich Potemkin     1\n",
       "Name: Answer, Length: 1999, dtype: int64"
      ]
     },
     "execution_count": 23,
     "metadata": {},
     "output_type": "execute_result"
    }
   ],
   "source": [
    "unique_answers(jeopardy_data, ['last'])"
   ]
  },
  {
   "cell_type": "markdown",
   "id": "a5454deb",
   "metadata": {},
   "source": [
    "Explore from here! This is an incredibly rich dataset, and there are so many interesting things to discover. There are a few columns that we haven’t even started looking at yet. Here are some ideas on ways to continue working with this data:\n",
    "\n",
    "-    Investigate the ways in which questions change over time by filtering by the date. How many questions from the 90s use the word `\"Computer\"` compared to questions from the 2000s?\n",
    "-    Is there a connection between the round and the category? Are you more likely to find certain categories, like `\"Literature\"` in Single Jeopardy or Double Jeopardy?\n",
    "-    Build a system to quiz yourself. Grab random questions, and use the `input` (https://docs.python.org/3/library/functions.html#input) function to get a response from the user. Check to see if that response was right or wrong. Note that you can’t do this on the Codecademy platform — to do this, download the data, and write and run the code on your own computer!"
   ]
  },
  {
   "cell_type": "code",
   "execution_count": 62,
   "id": "bf5f0e0f",
   "metadata": {},
   "outputs": [],
   "source": [
    "# what are the typical categories and/or answers for final jeopardy? or double jeopardy?\n",
    "\n",
    "# only look at the data for jeopardy_data['Final Jeopardy!'] or jeopardy_data['Double Jeopardy!']\n",
    "# groupby\n",
    "# then value_counts() the categories? And/or answers?\n",
    "# Need a loop to check if value in Round is 'Final Jeopardy!', then add that value to a new dataframe?\n",
    "# Then work with that dataframe?\n",
    "\n",
    "# def jeopardy_rounds(dataset, rounds):\n",
    "#     answer = dataset[rounds].value_counts()\n",
    "#     return answer\n",
    "    \n",
    "# jeopardy_rounds(jeopardy_data, 'Final Jeopardy!')\n",
    "\n",
    "\n",
    "# testing\n",
    "# jeopardy_data.loc[jeopardy_data['Round'] == 'Final Jeopardy!', 'Category'].unique()\n",
    "# jeopardy_data.loc[jeopardy_data['Round'] == 'Final Jeopardy!', 'Category'].unique().tolist()\n",
    "# jeopardy_data.loc[jeopardy_data['Round'] == 'Final Jeopardy!', 'Category'].values[0:50]\n",
    "# jeopardy_data[jeopardy_data['Round'] == 'Final Jeopardy!']['Category'].item()\n",
    "# jeopardy_data[['Category', 'Round']]"
   ]
  },
  {
   "cell_type": "code",
   "execution_count": null,
   "id": "acf461c1",
   "metadata": {},
   "outputs": [],
   "source": []
  }
 ],
 "metadata": {
  "kernelspec": {
   "display_name": "Python 3 (ipykernel)",
   "language": "python",
   "name": "python3"
  },
  "language_info": {
   "codemirror_mode": {
    "name": "ipython",
    "version": 3
   },
   "file_extension": ".py",
   "mimetype": "text/x-python",
   "name": "python",
   "nbconvert_exporter": "python",
   "pygments_lexer": "ipython3",
   "version": "3.9.7"
  }
 },
 "nbformat": 4,
 "nbformat_minor": 5
}
